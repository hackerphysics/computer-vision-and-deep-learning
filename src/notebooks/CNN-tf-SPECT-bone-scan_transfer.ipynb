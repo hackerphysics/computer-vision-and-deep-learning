{
 "cells": [
  {
   "cell_type": "code",
   "execution_count": 6,
   "metadata": {},
   "outputs": [
    {
     "name": "stdout",
     "output_type": "stream",
     "text": [
      "(2, 256, 256)\n",
      "(256, 256)\n",
      "(256, 256)\n",
      "C:\\Users\\haipw\\Desktop\\人工智能与医学影像\\datasets/train\\90243_20190820150959432000.dcm\n",
      "C:\\Users\\haipw\\Desktop\\人工智能与医学影像\\datasets/train\\90247_20190820145151365000.dcm\n",
      "(659, 256, 64, 3) (80, 256, 64, 3)\n",
      "[[1 0]\n",
      " [0 1]\n",
      " [0 1]\n",
      " [1 0]\n",
      " [1 0]\n",
      " [1 0]\n",
      " [0 1]\n",
      " [0 1]\n",
      " [1 0]\n",
      " [1 0]]\n"
     ]
    }
   ],
   "source": [
    "import glob\n",
    "import pydicom\n",
    "import numpy as np\n",
    "from PIL import Image\n",
    "\n",
    "folder = r\"C:\\Users\\haipw\\Desktop\\人工智能与医学影像\\datasets\"\n",
    "\n",
    "# filenames = glob.glob(f\"{folder}/train/*.dcm\")\n",
    "# print(filenames[3])\n",
    "# dcm = pydicom.dcmread(filenames[3])\n",
    "# # read pixel data\n",
    "# arr = dcm.pixel_array\n",
    "# print(arr.shape)\n",
    "# print(dcm.PatientSex)\n",
    "# # list all the dicom tags\n",
    "# for i in dcm.elements():\n",
    "#     if type(i) == pydicom.DataElement:\n",
    "#         print(i.description)\n",
    "# t = arr.flatten()\n",
    "\n",
    "\"\"\" \n",
    "读取数据集\n",
    "\"\"\"\n",
    "def get_dataset(path:str):\n",
    "    X = []\n",
    "    y = []\n",
    "    filenames = glob.glob(f\"{path}/*.dcm\")\n",
    "    for path in filenames:\n",
    "        ds = pydicom.dcmread(path)\n",
    "        try:\n",
    "            arr = ds.pixel_array\n",
    "            if arr.shape[0] == 2 and arr.shape[1] == 1024:\n",
    "                arr2 = np.zeros((3,1024,256))\n",
    "                arr2[0] = arr[0]\n",
    "                arr2[1] = arr[1]\n",
    "                arr2[2] = arr[0] + arr[1]\n",
    "                arr2 = np.transpose(arr2,[1,2,0])\n",
    "                img = np.array(Image.fromarray(arr2.astype(np.uint8)).resize((64,256)))\n",
    "                X.append(img)\n",
    "                y.append(np.array([1,0]) if ds.PatientSex.lower() == \"f\" else np.array([0,1]))\n",
    "            else:\n",
    "                print(arr.shape)\n",
    "        except:\n",
    "            print(path)\n",
    "    X = np.stack(X)\n",
    "    y = np.stack(y)\n",
    "    return X,y\n",
    "\n",
    "x_train, y_train = get_dataset(folder + \"/train\")\n",
    "x_test, y_test = get_dataset(folder + \"/test\")\n",
    "print(x_train.shape, x_test.shape)\n",
    "print(y_train[0:10])"
   ]
  },
  {
   "cell_type": "code",
   "execution_count": 7,
   "metadata": {},
   "outputs": [],
   "source": [
    "import tensorflow as tf\n",
    "from tensorflow import keras\n",
    "from tensorflow.keras.layers import Dense,Input,Flatten, GlobalMaxPooling2D\n",
    "from tensorflow.keras import layers, models, Sequential, backend\n",
    "base_model = tf.keras.applications.DenseNet121(\n",
    "    include_top=False,\n",
    "    weights=\"imagenet\",\n",
    "    input_shape=(256,64,3)\n",
    ")\n",
    "#  (None, 32, 8, 1024)\n",
    "img_input = Input(shape=(256,64,3))\n",
    "x = base_model(img_input)\n",
    "x = GlobalMaxPooling2D(name='final_pooling')(x)\n",
    "x = Dense(2, activation='softmax', name='fc')(x)\n",
    "\n",
    "model = models.Model(img_input, x, name='DenseNet121')"
   ]
  },
  {
   "cell_type": "code",
   "execution_count": 8,
   "metadata": {},
   "outputs": [
    {
     "name": "stdout",
     "output_type": "stream",
     "text": [
      "Model: \"DenseNet121\"\n",
      "_________________________________________________________________\n",
      " Layer (type)                Output Shape              Param #   \n",
      "=================================================================\n",
      " input_4 (InputLayer)        [(None, 256, 64, 3)]      0         \n",
      "                                                                 \n",
      " densenet121 (Functional)    (None, 8, 2, 1024)        7037504   \n",
      "                                                                 \n",
      " final_pooling (GlobalMaxPoo  (None, 1024)             0         \n",
      " ling2D)                                                         \n",
      "                                                                 \n",
      " fc (Dense)                  (None, 2)                 2050      \n",
      "                                                                 \n",
      "=================================================================\n",
      "Total params: 7,039,554\n",
      "Trainable params: 6,955,906\n",
      "Non-trainable params: 83,648\n",
      "_________________________________________________________________\n"
     ]
    }
   ],
   "source": [
    "model.summary()"
   ]
  },
  {
   "cell_type": "code",
   "execution_count": 26,
   "metadata": {},
   "outputs": [
    {
     "name": "stdout",
     "output_type": "stream",
     "text": [
      "Epoch 1/3\n",
      "11/11 [==============================] - 127s 9s/step - loss: 1.0065 - accuracy: 0.6434 - val_loss: 1.2246 - val_accuracy: 0.6000\n",
      "Epoch 2/3\n",
      "11/11 [==============================] - 93s 8s/step - loss: 0.1340 - accuracy: 0.9484 - val_loss: 0.9138 - val_accuracy: 0.5750\n",
      "Epoch 3/3\n",
      "11/11 [==============================] - 84s 8s/step - loss: 0.0581 - accuracy: 0.9848 - val_loss: 0.8729 - val_accuracy: 0.6250\n"
     ]
    },
    {
     "data": {
      "text/plain": [
       "<keras.callbacks.History at 0x164ed3a9eb0>"
      ]
     },
     "execution_count": 26,
     "metadata": {},
     "output_type": "execute_result"
    }
   ],
   "source": []
  },
  {
   "cell_type": "code",
   "execution_count": 12,
   "metadata": {},
   "outputs": [
    {
     "name": "stdout",
     "output_type": "stream",
     "text": [
      "input_4  is trainable?  True\n",
      "densenet121  is trainable?  False\n",
      "final_pooling  is trainable?  True\n",
      "fc  is trainable?  True\n"
     ]
    }
   ],
   "source": [
    "model.layers[1].trainable = False\n",
    "for layer in model.layers:\n",
    "        print(layer.name, ' is trainable? ', layer.trainable)"
   ]
  },
  {
   "cell_type": "code",
   "execution_count": 11,
   "metadata": {},
   "outputs": [
    {
     "name": "stdout",
     "output_type": "stream",
     "text": [
      "Epoch 1/10\n",
      "21/21 [==============================] - 24s 894ms/step - loss: 2.6085 - accuracy: 0.5083 - val_loss: 2.0809 - val_accuracy: 0.4750\n",
      "Epoch 2/10\n",
      "21/21 [==============================] - 18s 862ms/step - loss: 1.8702 - accuracy: 0.5038 - val_loss: 1.7840 - val_accuracy: 0.5375\n",
      "Epoch 3/10\n",
      "21/21 [==============================] - 19s 892ms/step - loss: 1.7756 - accuracy: 0.4992 - val_loss: 1.7076 - val_accuracy: 0.5125\n",
      "Epoch 4/10\n",
      "21/21 [==============================] - 18s 853ms/step - loss: 1.6962 - accuracy: 0.5008 - val_loss: 1.6196 - val_accuracy: 0.5000\n",
      "Epoch 5/10\n",
      "21/21 [==============================] - 17s 834ms/step - loss: 1.6249 - accuracy: 0.4947 - val_loss: 1.5246 - val_accuracy: 0.5500\n",
      "Epoch 6/10\n",
      "21/21 [==============================] - 20s 942ms/step - loss: 1.5696 - accuracy: 0.5190 - val_loss: 1.5070 - val_accuracy: 0.5250\n",
      "Epoch 7/10\n",
      "21/21 [==============================] - 21s 995ms/step - loss: 1.5104 - accuracy: 0.5144 - val_loss: 1.4928 - val_accuracy: 0.5125\n",
      "Epoch 8/10\n",
      "21/21 [==============================] - 21s 1s/step - loss: 1.4683 - accuracy: 0.5144 - val_loss: 1.3475 - val_accuracy: 0.5625\n",
      "Epoch 9/10\n",
      "21/21 [==============================] - 22s 1s/step - loss: 1.4231 - accuracy: 0.5250 - val_loss: 1.3109 - val_accuracy: 0.5625\n",
      "Epoch 10/10\n",
      "21/21 [==============================] - 20s 941ms/step - loss: 1.3833 - accuracy: 0.5417 - val_loss: 1.3398 - val_accuracy: 0.5250\n"
     ]
    },
    {
     "data": {
      "text/plain": [
       "<keras.callbacks.History at 0x270f2a59220>"
      ]
     },
     "execution_count": 11,
     "metadata": {},
     "output_type": "execute_result"
    }
   ],
   "source": [
    "batch_size = 32\n",
    "epochs = 10\n",
    "learning_rate = 0.05\n",
    "optimizer = keras.optimizers.Adadelta(learning_rate=learning_rate)\n",
    "model.compile(optimizer=optimizer,\n",
    "                loss='categorical_crossentropy',\n",
    "                metrics=['accuracy'])\n",
    "model.fit(x_train, y_train,\n",
    "            batch_size=batch_size,\n",
    "            epochs=epochs,\n",
    "            verbose = 1,\n",
    "            validation_data=(x_test, y_test)) "
   ]
  },
  {
   "cell_type": "code",
   "execution_count": 13,
   "metadata": {},
   "outputs": [
    {
     "name": "stdout",
     "output_type": "stream",
     "text": [
      "1/1 [==============================] - 2s 2s/step - loss: 1.3398 - accuracy: 0.5250\n",
      "loss: 1.3397815227508545\n",
      "accuracy: 0.5249999761581421\n"
     ]
    }
   ],
   "source": [
    "loss, accuracy = model.evaluate(x_test, y_test, batch_size=128)\n",
    "print(\"loss:\", loss)\n",
    "print(\"accuracy:\", accuracy)"
   ]
  },
  {
   "cell_type": "code",
   "execution_count": null,
   "metadata": {},
   "outputs": [],
   "source": []
  }
 ],
 "metadata": {
  "interpreter": {
   "hash": "a566da505104f5a21e6292202143814a0ad1dcd6fc2a1e2848e62cc6f92c87c9"
  },
  "kernelspec": {
   "display_name": "Python 3 (ipykernel)",
   "language": "python",
   "name": "python3"
  },
  "language_info": {
   "codemirror_mode": {
    "name": "ipython",
    "version": 3
   },
   "file_extension": ".py",
   "mimetype": "text/x-python",
   "name": "python",
   "nbconvert_exporter": "python",
   "pygments_lexer": "ipython3",
   "version": "3.9.7"
  }
 },
 "nbformat": 4,
 "nbformat_minor": 2
}

{
 "cells": [
  {
   "cell_type": "code",
   "execution_count": 1,
   "metadata": {},
   "outputs": [
    {
     "name": "stdout",
     "output_type": "stream",
     "text": [
      "(2, 256, 256)\n",
      "(256, 256)\n",
      "(256, 256)\n",
      "C:\\Users\\haipw\\Desktop\\人工智能与医学影像\\datasets/train\\90243_20190820150959432000.dcm\n",
      "C:\\Users\\haipw\\Desktop\\人工智能与医学影像\\datasets/train\\90247_20190820145151365000.dcm\n",
      "(659, 256, 64, 3) (80, 256, 64, 3)\n"
     ]
    }
   ],
   "source": [
    "import glob\n",
    "import pydicom\n",
    "import numpy as np\n",
    "from PIL import Image\n",
    "\n",
    "folder = r\"C:\\Users\\haipw\\Desktop\\人工智能与医学影像\\datasets\"\n",
    "\n",
    "# filenames = glob.glob(f\"{folder}/train/*.dcm\")\n",
    "# print(filenames[3])\n",
    "# dcm = pydicom.dcmread(filenames[3])\n",
    "# # read pixel data\n",
    "# arr = dcm.pixel_array\n",
    "# print(arr.shape)\n",
    "# print(dcm.PatientSex)\n",
    "# # list all the dicom tags\n",
    "# for i in dcm.elements():\n",
    "#     if type(i) == pydicom.DataElement:\n",
    "#         print(i.description)\n",
    "# t = arr.flatten()\n",
    "\n",
    "\"\"\" \n",
    "读取数据集\n",
    "\"\"\"\n",
    "def get_dataset(path:str):\n",
    "    X = []\n",
    "    y = []\n",
    "    filenames = glob.glob(f\"{path}/*.dcm\")\n",
    "    for path in filenames:\n",
    "        ds = pydicom.dcmread(path)\n",
    "        try:\n",
    "            arr = ds.pixel_array\n",
    "            if arr.shape[0] == 2 and arr.shape[1] == 1024:\n",
    "                arr2 = np.zeros((3,1024,256))\n",
    "                arr2[0] = arr[0]\n",
    "                arr2[1] = arr[1]\n",
    "                arr2[2] = arr[0] + arr[1] # \n",
    "                arr2 = np.transpose(arr2,[1,2,0])\n",
    "                img = np.array(Image.fromarray(arr2.astype(np.uint8)).resize((64,256)))\n",
    "                X.append(img)\n",
    "                y.append(np.array([1,0]) if ds.PatientSex.lower() == \"f\" else np.array([0,1]))\n",
    "            else:\n",
    "                print(arr.shape)\n",
    "        except:\n",
    "            print(path)\n",
    "    X = np.stack(X)\n",
    "    y = np.stack(y)\n",
    "    return X,y\n",
    "\n",
    "x_train, y_train = get_dataset(folder + \"/train\")\n",
    "x_test, y_test = get_dataset(folder + \"/test\")\n",
    "print(x_train.shape, x_test.shape)"
   ]
  },
  {
   "cell_type": "code",
   "execution_count": 24,
   "metadata": {},
   "outputs": [],
   "source": [
    "import tensorflow as tf\n",
    "from tensorflow import keras\n",
    "from tensorflow.keras.layers import Dense,Input,Flatten, GlobalMaxPooling2D\n",
    "from tensorflow.keras import layers, models, Sequential, backend\n",
    "base_model = tf.keras.applications.DenseNet121(\n",
    "    include_top=False,\n",
    "    weights=\"imagenet\",\n",
    "    input_shape=(256,64,3)\n",
    ")\n",
    "#  (None, 32, 8, 1024)\n",
    "img_input = Input(shape=(256,64,3))\n",
    "x = base_model(img_input)\n",
    "x = GlobalMaxPooling2D(name='final_pooling')(x)\n",
    "x = Dense(2, activation='softmax', name='fc')(x)\n",
    "model=models.Model(img_input, x, name='DenseNet121')"
   ]
  },
  {
   "cell_type": "code",
   "execution_count": 12,
   "metadata": {},
   "outputs": [],
   "source": [
    "from tensorflow.keras import models\n",
    "from tensorflow.keras import layers\n",
    "from tensorflow import keras\n",
    "\n",
    "def get_model(num_classes):\n",
    "  model = models.Sequential()\n",
    "  model.add(layers.Conv2D(32, kernel_size=(3, 3),\n",
    "                   activation='relu',\n",
    "                   input_shape=(256, 64, 3)))\n",
    "  model.add(layers.Conv2D(64, (3, 3), activation='relu'))\n",
    "  model.add(layers.MaxPooling2D(pool_size=(2, 2)))\n",
    "  model.add(layers.Dropout(0.25))\n",
    "  model.add(layers.Flatten())\n",
    "  model.add(layers.Dense(128, activation='relu'))\n",
    "  model.add(layers.Dropout(0.5))\n",
    "  model.add(layers.Dense(num_classes, activation='softmax'))\n",
    "  return model\n",
    "\n",
    "model = get_model(2)"
   ]
  },
  {
   "cell_type": "code",
   "execution_count": 13,
   "metadata": {},
   "outputs": [
    {
     "name": "stdout",
     "output_type": "stream",
     "text": [
      "Model: \"sequential_4\"\n",
      "_________________________________________________________________\n",
      " Layer (type)                Output Shape              Param #   \n",
      "=================================================================\n",
      " conv2d_8 (Conv2D)           (None, 254, 62, 32)       896       \n",
      "                                                                 \n",
      " conv2d_9 (Conv2D)           (None, 252, 60, 64)       18496     \n",
      "                                                                 \n",
      " max_pooling2d_4 (MaxPooling  (None, 126, 30, 64)      0         \n",
      " 2D)                                                             \n",
      "                                                                 \n",
      " dropout_8 (Dropout)         (None, 126, 30, 64)       0         \n",
      "                                                                 \n",
      " flatten_4 (Flatten)         (None, 241920)            0         \n",
      "                                                                 \n",
      " dense_8 (Dense)             (None, 128)               30965888  \n",
      "                                                                 \n",
      " dropout_9 (Dropout)         (None, 128)               0         \n",
      "                                                                 \n",
      " dense_9 (Dense)             (None, 2)                 258       \n",
      "                                                                 \n",
      "=================================================================\n",
      "Total params: 30,985,538\n",
      "Trainable params: 30,985,538\n",
      "Non-trainable params: 0\n",
      "_________________________________________________________________\n"
     ]
    }
   ],
   "source": [
    "model.summary()"
   ]
  },
  {
   "cell_type": "code",
   "execution_count": 17,
   "metadata": {},
   "outputs": [
    {
     "name": "stdout",
     "output_type": "stream",
     "text": [
      "Epoch 1/10\n",
      "42/42 [==============================] - 26s 613ms/step - loss: 0.7609 - accuracy: 0.6358 - val_loss: 0.5547 - val_accuracy: 0.8250\n",
      "Epoch 2/10\n",
      "42/42 [==============================] - 27s 633ms/step - loss: 0.6467 - accuracy: 0.6722 - val_loss: 0.4792 - val_accuracy: 0.8625\n",
      "Epoch 3/10\n",
      "42/42 [==============================] - 25s 590ms/step - loss: 0.5848 - accuracy: 0.7011 - val_loss: 0.4213 - val_accuracy: 0.8375\n",
      "Epoch 4/10\n",
      "42/42 [==============================] - 25s 589ms/step - loss: 0.5642 - accuracy: 0.6980 - val_loss: 0.4844 - val_accuracy: 0.8375\n",
      "Epoch 5/10\n",
      "42/42 [==============================] - 24s 567ms/step - loss: 0.5431 - accuracy: 0.7405 - val_loss: 0.5246 - val_accuracy: 0.8250\n",
      "Epoch 6/10\n",
      "42/42 [==============================] - 22s 519ms/step - loss: 0.5513 - accuracy: 0.7344 - val_loss: 0.4578 - val_accuracy: 0.8250\n",
      "Epoch 7/10\n",
      "42/42 [==============================] - 22s 520ms/step - loss: 0.4877 - accuracy: 0.7815 - val_loss: 0.4176 - val_accuracy: 0.8250\n",
      "Epoch 8/10\n",
      "42/42 [==============================] - 22s 525ms/step - loss: 0.4614 - accuracy: 0.7800 - val_loss: 0.3998 - val_accuracy: 0.8500\n",
      "Epoch 9/10\n",
      "42/42 [==============================] - 22s 517ms/step - loss: 0.4462 - accuracy: 0.7906 - val_loss: 0.3979 - val_accuracy: 0.8250\n",
      "Epoch 10/10\n",
      "42/42 [==============================] - 40s 934ms/step - loss: 0.4572 - accuracy: 0.7921 - val_loss: 0.4380 - val_accuracy: 0.8375\n"
     ]
    },
    {
     "data": {
      "text/plain": [
       "<keras.callbacks.History at 0x21b9789bcd0>"
      ]
     },
     "execution_count": 17,
     "metadata": {},
     "output_type": "execute_result"
    }
   ],
   "source": [
    "batch_size = 16\n",
    "epochs = 10\n",
    "learning_rate = 0.05\n",
    "optimizer = keras.optimizers.Adadelta(learning_rate=learning_rate)\n",
    "model.compile(optimizer=optimizer,\n",
    "                loss='categorical_crossentropy',\n",
    "                metrics=['accuracy'])\n",
    "model.fit(x_train, y_train,\n",
    "            batch_size=batch_size,\n",
    "            epochs=epochs,\n",
    "            verbose = 1,\n",
    "            validation_data=(x_test, y_test)) "
   ]
  },
  {
   "cell_type": "code",
   "execution_count": 18,
   "metadata": {},
   "outputs": [
    {
     "name": "stdout",
     "output_type": "stream",
     "text": [
      "1/1 [==============================] - 1s 1s/step - loss: 0.4380 - accuracy: 0.8375\n",
      "loss: 0.4379609525203705\n",
      "accuracy: 0.8374999761581421\n"
     ]
    }
   ],
   "source": [
    "loss, accuracy = model.evaluate(x_test, y_test, batch_size=128)\n",
    "print(\"loss:\", loss)\n",
    "print(\"accuracy:\", accuracy)"
   ]
  }
 ],
 "metadata": {
  "interpreter": {
   "hash": "a566da505104f5a21e6292202143814a0ad1dcd6fc2a1e2848e62cc6f92c87c9"
  },
  "kernelspec": {
   "display_name": "Python 3 (ipykernel)",
   "language": "python",
   "name": "python3"
  },
  "language_info": {
   "codemirror_mode": {
    "name": "ipython",
    "version": 3
   },
   "file_extension": ".py",
   "mimetype": "text/x-python",
   "name": "python",
   "nbconvert_exporter": "python",
   "pygments_lexer": "ipython3",
   "version": "3.9.7"
  }
 },
 "nbformat": 4,
 "nbformat_minor": 2
}
